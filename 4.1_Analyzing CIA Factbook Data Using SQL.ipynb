{
 "cells": [
  {
   "cell_type": "markdown",
   "metadata": {},
   "source": [
    "## Analyzing CIA Factbook Data Using SQL\n",
    "We are using data from the [CIA World Factbook](https://www.cia.gov/library/publications/the-world-factbook/) which contains statistics about all of the countries on Earth.  The data contains information on demographics such as:\n",
    "* `population` - as of 2015\n",
    "* `population_growth` - The annual population growth rate, as a percentage\n",
    "* `area` - total land and water area\n",
    "\n",
    "Connect to the database file"
   ]
  },
  {
   "cell_type": "code",
   "execution_count": 38,
   "metadata": {},
   "outputs": [],
   "source": [
    "%%capture\n",
    "%load_ext sql\n",
    "%sql sqlite:///factbook.db"
   ]
  },
  {
   "cell_type": "code",
   "execution_count": 33,
   "metadata": {},
   "outputs": [
    {
     "name": "stdout",
     "output_type": "stream",
     "text": [
      "Engine(sqlite:///factbook.db)\n"
     ]
    }
   ],
   "source": [
    "from sqlalchemy import  create_engine\n",
    " \n",
    "engine = create_engine('sqlite:///factbook.db')\n",
    "engine.connect()\n",
    "print(engine)"
   ]
  },
  {
   "cell_type": "code",
   "execution_count": 34,
   "metadata": {},
   "outputs": [
    {
     "name": "stdout",
     "output_type": "stream",
     "text": [
      " * sqlite:///factbook.db\n",
      "Done.\n"
     ]
    },
    {
     "data": {
      "text/html": [
       "<table>\n",
       "    <tr>\n",
       "        <th>type</th>\n",
       "        <th>name</th>\n",
       "        <th>tbl_name</th>\n",
       "        <th>rootpage</th>\n",
       "        <th>sql</th>\n",
       "    </tr>\n",
       "    <tr>\n",
       "        <td>table</td>\n",
       "        <td>sqlite_sequence</td>\n",
       "        <td>sqlite_sequence</td>\n",
       "        <td>3</td>\n",
       "        <td>CREATE TABLE sqlite_sequence(name,seq)</td>\n",
       "    </tr>\n",
       "    <tr>\n",
       "        <td>table</td>\n",
       "        <td>facts</td>\n",
       "        <td>facts</td>\n",
       "        <td>47</td>\n",
       "        <td>CREATE TABLE &quot;facts&quot; (&quot;id&quot; INTEGER PRIMARY KEY AUTOINCREMENT NOT NULL, &quot;code&quot; varchar(255) NOT NULL, &quot;name&quot; varchar(255) NOT NULL, &quot;area&quot; integer, &quot;area_land&quot; integer, &quot;area_water&quot; integer, &quot;population&quot; integer, &quot;population_growth&quot; float, &quot;birth_rate&quot; float, &quot;death_rate&quot; float, &quot;migration_rate&quot; float)</td>\n",
       "    </tr>\n",
       "</table>"
      ],
      "text/plain": [
       "[('table', 'sqlite_sequence', 'sqlite_sequence', 3, 'CREATE TABLE sqlite_sequence(name,seq)'),\n",
       " ('table', 'facts', 'facts', 47, 'CREATE TABLE \"facts\" (\"id\" INTEGER PRIMARY KEY AUTOINCREMENT NOT NULL, \"code\" varchar(255) NOT NULL, \"name\" varchar(255) NOT NULL, \"area\" integer, \"a ... (4 characters truncated) ... land\" integer, \"area_water\" integer, \"population\" integer, \"population_growth\" float, \"birth_rate\" float, \"death_rate\" float, \"migration_rate\" float)')]"
      ]
     },
     "execution_count": 34,
     "metadata": {},
     "output_type": "execute_result"
    }
   ],
   "source": [
    "%%sql\n",
    "SELECT * FROM sqlite_master WHERE type='table';"
   ]
  },
  {
   "cell_type": "code",
   "execution_count": 35,
   "metadata": {},
   "outputs": [
    {
     "name": "stdout",
     "output_type": "stream",
     "text": [
      " * sqlite:///factbook.db\n",
      "Done.\n"
     ]
    },
    {
     "data": {
      "text/html": [
       "<table>\n",
       "    <tr>\n",
       "        <th>id</th>\n",
       "        <th>code</th>\n",
       "        <th>name</th>\n",
       "        <th>area</th>\n",
       "        <th>area_land</th>\n",
       "        <th>area_water</th>\n",
       "        <th>population</th>\n",
       "        <th>population_growth</th>\n",
       "        <th>birth_rate</th>\n",
       "        <th>death_rate</th>\n",
       "        <th>migration_rate</th>\n",
       "    </tr>\n",
       "    <tr>\n",
       "        <td>1</td>\n",
       "        <td>af</td>\n",
       "        <td>Afghanistan</td>\n",
       "        <td>652230</td>\n",
       "        <td>652230</td>\n",
       "        <td>0</td>\n",
       "        <td>32564342</td>\n",
       "        <td>2.32</td>\n",
       "        <td>38.57</td>\n",
       "        <td>13.89</td>\n",
       "        <td>1.51</td>\n",
       "    </tr>\n",
       "    <tr>\n",
       "        <td>2</td>\n",
       "        <td>al</td>\n",
       "        <td>Albania</td>\n",
       "        <td>28748</td>\n",
       "        <td>27398</td>\n",
       "        <td>1350</td>\n",
       "        <td>3029278</td>\n",
       "        <td>0.3</td>\n",
       "        <td>12.92</td>\n",
       "        <td>6.58</td>\n",
       "        <td>3.3</td>\n",
       "    </tr>\n",
       "    <tr>\n",
       "        <td>3</td>\n",
       "        <td>ag</td>\n",
       "        <td>Algeria</td>\n",
       "        <td>2381741</td>\n",
       "        <td>2381741</td>\n",
       "        <td>0</td>\n",
       "        <td>39542166</td>\n",
       "        <td>1.84</td>\n",
       "        <td>23.67</td>\n",
       "        <td>4.31</td>\n",
       "        <td>0.92</td>\n",
       "    </tr>\n",
       "    <tr>\n",
       "        <td>4</td>\n",
       "        <td>an</td>\n",
       "        <td>Andorra</td>\n",
       "        <td>468</td>\n",
       "        <td>468</td>\n",
       "        <td>0</td>\n",
       "        <td>85580</td>\n",
       "        <td>0.12</td>\n",
       "        <td>8.13</td>\n",
       "        <td>6.96</td>\n",
       "        <td>0.0</td>\n",
       "    </tr>\n",
       "    <tr>\n",
       "        <td>5</td>\n",
       "        <td>ao</td>\n",
       "        <td>Angola</td>\n",
       "        <td>1246700</td>\n",
       "        <td>1246700</td>\n",
       "        <td>0</td>\n",
       "        <td>19625353</td>\n",
       "        <td>2.78</td>\n",
       "        <td>38.78</td>\n",
       "        <td>11.49</td>\n",
       "        <td>0.46</td>\n",
       "    </tr>\n",
       "</table>"
      ],
      "text/plain": [
       "[(1, 'af', 'Afghanistan', 652230, 652230, 0, 32564342, 2.32, 38.57, 13.89, 1.51),\n",
       " (2, 'al', 'Albania', 28748, 27398, 1350, 3029278, 0.3, 12.92, 6.58, 3.3),\n",
       " (3, 'ag', 'Algeria', 2381741, 2381741, 0, 39542166, 1.84, 23.67, 4.31, 0.92),\n",
       " (4, 'an', 'Andorra', 468, 468, 0, 85580, 0.12, 8.13, 6.96, 0.0),\n",
       " (5, 'ao', 'Angola', 1246700, 1246700, 0, 19625353, 2.78, 38.78, 11.49, 0.46)]"
      ]
     },
     "execution_count": 35,
     "metadata": {},
     "output_type": "execute_result"
    }
   ],
   "source": [
    "%%sql\n",
    "SELECT * FROM facts limit 5;"
   ]
  },
  {
   "cell_type": "markdown",
   "metadata": {},
   "source": [
    "The table above is the first few rows of the `facts` table.  Here is the description of some of the columns:\n",
    "* `name` - Name of the country\n",
    "* `area` - Total land and sea area of the country\n",
    "* `population` - Country's population\n",
    "* `population_growth` - Country's population growth as a percentage\n",
    "* `birth_rate` - Country's birth rate, number of births a year per 1,000 people.\n",
    "* `death_rate` - Counntry's death rate, number of deaths a year per 1,000 people\n",
    "* `area_land` - Country's land area in square kilometers\n",
    "* `area_water` - Country's water area in square kilometers\n",
    "\n",
    "Let us find the minimum and maximum population and population growth below"
   ]
  },
  {
   "cell_type": "code",
   "execution_count": 47,
   "metadata": {},
   "outputs": [
    {
     "name": "stdout",
     "output_type": "stream",
     "text": [
      " * sqlite:///factbook.db\n",
      "Done.\n"
     ]
    },
    {
     "data": {
      "text/html": [
       "<table>\n",
       "    <tr>\n",
       "        <th>pop_min</th>\n",
       "        <th>pop_max</th>\n",
       "        <th>min_pop_growth</th>\n",
       "        <th>max_pop_growth</th>\n",
       "    </tr>\n",
       "    <tr>\n",
       "        <td>0</td>\n",
       "        <td>7256490011</td>\n",
       "        <td>0.0</td>\n",
       "        <td>4.02</td>\n",
       "    </tr>\n",
       "</table>"
      ],
      "text/plain": [
       "[(0, 7256490011, 0.0, 4.02)]"
      ]
     },
     "execution_count": 47,
     "metadata": {},
     "output_type": "execute_result"
    }
   ],
   "source": [
    "%%sql\n",
    "SELECT MIN(population) as pop_min, MAX(population) as pop_max,\n",
    "MIN(population_growth) as min_pop_growth, MAX(population_growth) as max_pop_growth FROM facts;"
   ]
  },
  {
   "cell_type": "markdown",
   "metadata": {},
   "source": [
    "The population minimum of zero and the population maximum of 7256490011 stick out, let us look at these more closely"
   ]
  },
  {
   "cell_type": "code",
   "execution_count": 48,
   "metadata": {},
   "outputs": [
    {
     "name": "stdout",
     "output_type": "stream",
     "text": [
      " * sqlite:///factbook.db\n",
      "Done.\n"
     ]
    },
    {
     "data": {
      "text/html": [
       "<table>\n",
       "    <tr>\n",
       "        <th>id</th>\n",
       "        <th>code</th>\n",
       "        <th>name</th>\n",
       "        <th>area</th>\n",
       "        <th>area_land</th>\n",
       "        <th>area_water</th>\n",
       "        <th>population</th>\n",
       "        <th>population_growth</th>\n",
       "        <th>birth_rate</th>\n",
       "        <th>death_rate</th>\n",
       "        <th>migration_rate</th>\n",
       "    </tr>\n",
       "    <tr>\n",
       "        <td>250</td>\n",
       "        <td>ay</td>\n",
       "        <td>Antarctica</td>\n",
       "        <td>None</td>\n",
       "        <td>280000</td>\n",
       "        <td>None</td>\n",
       "        <td>0</td>\n",
       "        <td>None</td>\n",
       "        <td>None</td>\n",
       "        <td>None</td>\n",
       "        <td>None</td>\n",
       "    </tr>\n",
       "</table>"
      ],
      "text/plain": [
       "[(250, 'ay', 'Antarctica', None, 280000, None, 0, None, None, None, None)]"
      ]
     },
     "execution_count": 48,
     "metadata": {},
     "output_type": "execute_result"
    }
   ],
   "source": [
    "%%sql\n",
    "SELECT * FROM facts\n",
    "WHERE population ==(SELECT MIN(population) FROM facts);"
   ]
  },
  {
   "cell_type": "code",
   "execution_count": 46,
   "metadata": {},
   "outputs": [
    {
     "name": "stdout",
     "output_type": "stream",
     "text": [
      " * sqlite:///factbook.db\n",
      "Done.\n"
     ]
    },
    {
     "data": {
      "text/html": [
       "<table>\n",
       "    <tr>\n",
       "        <th>id</th>\n",
       "        <th>code</th>\n",
       "        <th>name</th>\n",
       "        <th>area</th>\n",
       "        <th>area_land</th>\n",
       "        <th>area_water</th>\n",
       "        <th>population</th>\n",
       "        <th>population_growth</th>\n",
       "        <th>birth_rate</th>\n",
       "        <th>death_rate</th>\n",
       "        <th>migration_rate</th>\n",
       "    </tr>\n",
       "    <tr>\n",
       "        <td>261</td>\n",
       "        <td>xx</td>\n",
       "        <td>World</td>\n",
       "        <td>None</td>\n",
       "        <td>None</td>\n",
       "        <td>None</td>\n",
       "        <td>7256490011</td>\n",
       "        <td>1.08</td>\n",
       "        <td>18.6</td>\n",
       "        <td>7.8</td>\n",
       "        <td>None</td>\n",
       "    </tr>\n",
       "</table>"
      ],
      "text/plain": [
       "[(261, 'xx', 'World', None, None, None, 7256490011, 1.08, 18.6, 7.8, None)]"
      ]
     },
     "execution_count": 46,
     "metadata": {},
     "output_type": "execute_result"
    }
   ],
   "source": [
    "%%sql\n",
    "SELECT * FROM facts\n",
    "WHERE population == (SELECT MAX(population) FROM facts);"
   ]
  },
  {
   "cell_type": "markdown",
   "metadata": {},
   "source": [
    "We can see here that the table contains a row for the whole world.\n",
    "\n",
    "From the [Antarctica page](https://www.cia.gov/library/publications/the-world-factbook/geos/ay.html) of the CIA World Factbook we find:\n",
    "\n",
    "'no indigenous inhabitants, but there are both permanent and summer-only staffed research stations\n",
    "\n",
    "note: 53 countries have signed the 1959 Antarctic Treaty; 30 of those operate through their National Antarctic Program a number of seasonal-only (summer) and year-round research stations on the continent and its nearby islands south of 60 degrees south latitude (the region covered by the Antarctic Treaty); the population engaging in and supporting science or managing and protecting the Antarctic region varies from approximately 4,400 in summer to 1,100 in winter; in addition, approximately 1,000 personnel, including ship's crew and scientists doing onboard research, are present in the waters of the treaty region'\n",
    "\n",
    "####  Average values for population and area"
   ]
  },
  {
   "cell_type": "code",
   "execution_count": 51,
   "metadata": {},
   "outputs": [
    {
     "name": "stdout",
     "output_type": "stream",
     "text": [
      " * sqlite:///factbook.db\n",
      "Done.\n"
     ]
    },
    {
     "data": {
      "text/html": [
       "<table>\n",
       "    <tr>\n",
       "        <th>avg_pop</th>\n",
       "        <th>avg_area</th>\n",
       "    </tr>\n",
       "    <tr>\n",
       "        <td>32242666.56846473</td>\n",
       "        <td>555093.546184739</td>\n",
       "    </tr>\n",
       "</table>"
      ],
      "text/plain": [
       "[(32242666.56846473, 555093.546184739)]"
      ]
     },
     "execution_count": 51,
     "metadata": {},
     "output_type": "execute_result"
    }
   ],
   "source": [
    "%%sql\n",
    "SELECT AVG(population) as avg_pop, AVG(area) as avg_area FROM facts\n",
    "WHERE name <> 'World';"
   ]
  },
  {
   "cell_type": "code",
   "execution_count": 54,
   "metadata": {},
   "outputs": [
    {
     "name": "stdout",
     "output_type": "stream",
     "text": [
      " * sqlite:///factbook.db\n",
      "Done.\n"
     ]
    },
    {
     "data": {
      "text/html": [
       "<table>\n",
       "    <tr>\n",
       "        <th>id</th>\n",
       "        <th>code</th>\n",
       "        <th>name</th>\n",
       "        <th>area</th>\n",
       "        <th>area_land</th>\n",
       "        <th>area_water</th>\n",
       "        <th>population</th>\n",
       "        <th>population_growth</th>\n",
       "        <th>birth_rate</th>\n",
       "        <th>death_rate</th>\n",
       "        <th>migration_rate</th>\n",
       "    </tr>\n",
       "    <tr>\n",
       "        <td>14</td>\n",
       "        <td>bg</td>\n",
       "        <td>Bangladesh</td>\n",
       "        <td>148460</td>\n",
       "        <td>130170</td>\n",
       "        <td>18290</td>\n",
       "        <td>168957745</td>\n",
       "        <td>1.6</td>\n",
       "        <td>21.14</td>\n",
       "        <td>5.61</td>\n",
       "        <td>0.46</td>\n",
       "    </tr>\n",
       "    <tr>\n",
       "        <td>65</td>\n",
       "        <td>gm</td>\n",
       "        <td>Germany</td>\n",
       "        <td>357022</td>\n",
       "        <td>348672</td>\n",
       "        <td>8350</td>\n",
       "        <td>80854408</td>\n",
       "        <td>0.17</td>\n",
       "        <td>8.47</td>\n",
       "        <td>11.42</td>\n",
       "        <td>1.24</td>\n",
       "    </tr>\n",
       "    <tr>\n",
       "        <td>85</td>\n",
       "        <td>ja</td>\n",
       "        <td>Japan</td>\n",
       "        <td>377915</td>\n",
       "        <td>364485</td>\n",
       "        <td>13430</td>\n",
       "        <td>126919659</td>\n",
       "        <td>0.16</td>\n",
       "        <td>7.93</td>\n",
       "        <td>9.51</td>\n",
       "        <td>0.0</td>\n",
       "    </tr>\n",
       "    <tr>\n",
       "        <td>138</td>\n",
       "        <td>rp</td>\n",
       "        <td>Philippines</td>\n",
       "        <td>300000</td>\n",
       "        <td>298170</td>\n",
       "        <td>1830</td>\n",
       "        <td>100998376</td>\n",
       "        <td>1.61</td>\n",
       "        <td>24.27</td>\n",
       "        <td>6.11</td>\n",
       "        <td>2.09</td>\n",
       "    </tr>\n",
       "    <tr>\n",
       "        <td>173</td>\n",
       "        <td>th</td>\n",
       "        <td>Thailand</td>\n",
       "        <td>513120</td>\n",
       "        <td>510890</td>\n",
       "        <td>2230</td>\n",
       "        <td>67976405</td>\n",
       "        <td>0.34</td>\n",
       "        <td>11.19</td>\n",
       "        <td>7.8</td>\n",
       "        <td>0.0</td>\n",
       "    </tr>\n",
       "    <tr>\n",
       "        <td>185</td>\n",
       "        <td>uk</td>\n",
       "        <td>United Kingdom</td>\n",
       "        <td>243610</td>\n",
       "        <td>241930</td>\n",
       "        <td>1680</td>\n",
       "        <td>64088222</td>\n",
       "        <td>0.54</td>\n",
       "        <td>12.17</td>\n",
       "        <td>9.35</td>\n",
       "        <td>2.54</td>\n",
       "    </tr>\n",
       "    <tr>\n",
       "        <td>192</td>\n",
       "        <td>vm</td>\n",
       "        <td>Vietnam</td>\n",
       "        <td>331210</td>\n",
       "        <td>310070</td>\n",
       "        <td>21140</td>\n",
       "        <td>94348835</td>\n",
       "        <td>0.97</td>\n",
       "        <td>15.96</td>\n",
       "        <td>5.93</td>\n",
       "        <td>0.3</td>\n",
       "    </tr>\n",
       "</table>"
      ],
      "text/plain": [
       "[(14, 'bg', 'Bangladesh', 148460, 130170, 18290, 168957745, 1.6, 21.14, 5.61, 0.46),\n",
       " (65, 'gm', 'Germany', 357022, 348672, 8350, 80854408, 0.17, 8.47, 11.42, 1.24),\n",
       " (85, 'ja', 'Japan', 377915, 364485, 13430, 126919659, 0.16, 7.93, 9.51, 0.0),\n",
       " (138, 'rp', 'Philippines', 300000, 298170, 1830, 100998376, 1.61, 24.27, 6.11, 2.09),\n",
       " (173, 'th', 'Thailand', 513120, 510890, 2230, 67976405, 0.34, 11.19, 7.8, 0.0),\n",
       " (185, 'uk', 'United Kingdom', 243610, 241930, 1680, 64088222, 0.54, 12.17, 9.35, 2.54),\n",
       " (192, 'vm', 'Vietnam', 331210, 310070, 21140, 94348835, 0.97, 15.96, 5.93, 0.3)]"
      ]
     },
     "execution_count": 54,
     "metadata": {},
     "output_type": "execute_result"
    }
   ],
   "source": [
    "%%sql\n",
    "SELECT * FROM facts\n",
    "WHERE population > (SELECT AVG(population) FROM facts)\n",
    "AND area < (SELECT AVG(area) FROM facts);"
   ]
  },
  {
   "cell_type": "markdown",
   "metadata": {},
   "source": [
    "#### Data Exploration\n",
    "* Which countries have the highest ratios of water to land? Which countries have more water than land?\n",
    "* Which countries will add the most people to their population next year?\n",
    "* Which countries have a higher death rate than birth rate?\n",
    "##### Water to Land Ratios"
   ]
  },
  {
   "cell_type": "code",
   "execution_count": 71,
   "metadata": {},
   "outputs": [
    {
     "name": "stdout",
     "output_type": "stream",
     "text": [
      " * sqlite:///factbook.db\n",
      "Done.\n"
     ]
    },
    {
     "data": {
      "text/html": [
       "<table>\n",
       "    <tr>\n",
       "        <th>name</th>\n",
       "        <th>area_land</th>\n",
       "        <th>area_water</th>\n",
       "    </tr>\n",
       "    <tr>\n",
       "        <td>British Indian Ocean Territory</td>\n",
       "        <td>60</td>\n",
       "        <td>54340</td>\n",
       "    </tr>\n",
       "    <tr>\n",
       "        <td>Virgin Islands</td>\n",
       "        <td>346</td>\n",
       "        <td>1564</td>\n",
       "    </tr>\n",
       "</table>"
      ],
      "text/plain": [
       "[('British Indian Ocean Territory', 60, 54340), ('Virgin Islands', 346, 1564)]"
      ]
     },
     "execution_count": 71,
     "metadata": {},
     "output_type": "execute_result"
    }
   ],
   "source": [
    "%%sql\n",
    "SELECT name, area_land, area_water\n",
    "FROM facts\n",
    "WHERE area_water>area_land\n",
    "ORDER BY area_water\n",
    "DESC;"
   ]
  },
  {
   "cell_type": "code",
   "execution_count": 105,
   "metadata": {},
   "outputs": [
    {
     "name": "stdout",
     "output_type": "stream",
     "text": [
      " * sqlite:///factbook.db\n",
      "Done.\n"
     ]
    },
    {
     "data": {
      "text/html": [
       "<table>\n",
       "    <tr>\n",
       "        <th>name</th>\n",
       "        <th>area</th>\n",
       "        <th>area_land</th>\n",
       "        <th>area_water</th>\n",
       "        <th>ratio_water_to_land</th>\n",
       "        <th>pct_water</th>\n",
       "    </tr>\n",
       "    <tr>\n",
       "        <td>British Indian Ocean Territory</td>\n",
       "        <td>54400</td>\n",
       "        <td>60</td>\n",
       "        <td>54340</td>\n",
       "        <td>905.667</td>\n",
       "        <td>99.89</td>\n",
       "    </tr>\n",
       "    <tr>\n",
       "        <td>Virgin Islands</td>\n",
       "        <td>1910</td>\n",
       "        <td>346</td>\n",
       "        <td>1564</td>\n",
       "        <td>4.52</td>\n",
       "        <td>81.885</td>\n",
       "    </tr>\n",
       "    <tr>\n",
       "        <td>Puerto Rico</td>\n",
       "        <td>13791</td>\n",
       "        <td>8870</td>\n",
       "        <td>4921</td>\n",
       "        <td>0.555</td>\n",
       "        <td>35.683</td>\n",
       "    </tr>\n",
       "    <tr>\n",
       "        <td>Bahamas, The</td>\n",
       "        <td>13880</td>\n",
       "        <td>10010</td>\n",
       "        <td>3870</td>\n",
       "        <td>0.387</td>\n",
       "        <td>27.882</td>\n",
       "    </tr>\n",
       "    <tr>\n",
       "        <td>Guinea-Bissau</td>\n",
       "        <td>36125</td>\n",
       "        <td>28120</td>\n",
       "        <td>8005</td>\n",
       "        <td>0.285</td>\n",
       "        <td>22.159</td>\n",
       "    </tr>\n",
       "</table>"
      ],
      "text/plain": [
       "[('British Indian Ocean Territory', 54400, 60, 54340, 905.667, 99.89),\n",
       " ('Virgin Islands', 1910, 346, 1564, 4.52, 81.885),\n",
       " ('Puerto Rico', 13791, 8870, 4921, 0.555, 35.683),\n",
       " ('Bahamas, The', 13880, 10010, 3870, 0.387, 27.882),\n",
       " ('Guinea-Bissau', 36125, 28120, 8005, 0.285, 22.159)]"
      ]
     },
     "execution_count": 105,
     "metadata": {},
     "output_type": "execute_result"
    }
   ],
   "source": [
    "%%sql\n",
    "SELECT name, area, area_land, area_water, \n",
    "ROUND((CAST(area_water as float)/area_land),3) as ratio_water_to_land, \n",
    "ROUND(((CAST(area_water as float)/area)*100),3) as pct_water\n",
    "FROM facts\n",
    "WHERE area_water <>0\n",
    "ORDER BY ratio_water_to_land\n",
    "DESC\n",
    "LIMIT 5;"
   ]
  },
  {
   "cell_type": "markdown",
   "metadata": {},
   "source": [
    "The British Indian Ocean Territory and the Virgin Islands are the two countries with more water area than land area.  They are 99.9% and 81.9% water, respectively.\n",
    "Puerto Rico comes in at 3rd with 35.7% water and a .56 water to land ratio.  The Bahamas and Guinea-Bissau are top four and five for percent water with 27.9% and 22.2% respectively.\n",
    "\n",
    "##### Population growth for next year\n",
    "According to the [CIA World Factbook](https://www.cia.gov/library/publications/the-world-factbook/fields/344rank.html) the data for populaation growth in the table takes into account the death and migrations rates.<br>\n",
    "'Population growth rate compares the average annual percent change in populations, resulting from a surplus (or deficit) of births over deaths and the balance of migrants entering and leaving a country. The rate may be positive or negative.'<br>\n",
    "We will see which countries have the highest population growth rate which is represented as a percentage.  Then we will look at the predicted total number of people added to the population."
   ]
  },
  {
   "cell_type": "code",
   "execution_count": 115,
   "metadata": {},
   "outputs": [
    {
     "name": "stdout",
     "output_type": "stream",
     "text": [
      " * sqlite:///factbook.db\n",
      "Done.\n"
     ]
    },
    {
     "data": {
      "text/html": [
       "<table>\n",
       "    <tr>\n",
       "        <th>name</th>\n",
       "        <th>population</th>\n",
       "        <th>population_growth</th>\n",
       "        <th>people_added</th>\n",
       "        <th>death_rate</th>\n",
       "        <th>migration_rate</th>\n",
       "    </tr>\n",
       "    <tr>\n",
       "        <td>South Sudan</td>\n",
       "        <td>12042910</td>\n",
       "        <td>4.02</td>\n",
       "        <td>484125.0</td>\n",
       "        <td>8.18</td>\n",
       "        <td>11.47</td>\n",
       "    </tr>\n",
       "    <tr>\n",
       "        <td>Malawi</td>\n",
       "        <td>17964697</td>\n",
       "        <td>3.32</td>\n",
       "        <td>596428.0</td>\n",
       "        <td>8.41</td>\n",
       "        <td>0.0</td>\n",
       "    </tr>\n",
       "    <tr>\n",
       "        <td>Burundi</td>\n",
       "        <td>10742276</td>\n",
       "        <td>3.28</td>\n",
       "        <td>352347.0</td>\n",
       "        <td>9.27</td>\n",
       "        <td>0.0</td>\n",
       "    </tr>\n",
       "    <tr>\n",
       "        <td>Niger</td>\n",
       "        <td>18045729</td>\n",
       "        <td>3.25</td>\n",
       "        <td>586486.0</td>\n",
       "        <td>12.42</td>\n",
       "        <td>0.56</td>\n",
       "    </tr>\n",
       "    <tr>\n",
       "        <td>Uganda</td>\n",
       "        <td>37101745</td>\n",
       "        <td>3.24</td>\n",
       "        <td>1202097.0</td>\n",
       "        <td>10.69</td>\n",
       "        <td>0.74</td>\n",
       "    </tr>\n",
       "    <tr>\n",
       "        <td>Qatar</td>\n",
       "        <td>2194817</td>\n",
       "        <td>3.07</td>\n",
       "        <td>67381.0</td>\n",
       "        <td>1.53</td>\n",
       "        <td>22.39</td>\n",
       "    </tr>\n",
       "    <tr>\n",
       "        <td>Burkina Faso</td>\n",
       "        <td>18931686</td>\n",
       "        <td>3.03</td>\n",
       "        <td>573630.0</td>\n",
       "        <td>11.72</td>\n",
       "        <td>0.0</td>\n",
       "    </tr>\n",
       "    <tr>\n",
       "        <td>Mali</td>\n",
       "        <td>16955536</td>\n",
       "        <td>2.98</td>\n",
       "        <td>505275.0</td>\n",
       "        <td>12.89</td>\n",
       "        <td>2.26</td>\n",
       "    </tr>\n",
       "    <tr>\n",
       "        <td>Cook Islands</td>\n",
       "        <td>9838</td>\n",
       "        <td>2.95</td>\n",
       "        <td>290.0</td>\n",
       "        <td>8.03</td>\n",
       "        <td>None</td>\n",
       "    </tr>\n",
       "    <tr>\n",
       "        <td>Iraq</td>\n",
       "        <td>37056169</td>\n",
       "        <td>2.93</td>\n",
       "        <td>1085746.0</td>\n",
       "        <td>3.77</td>\n",
       "        <td>1.62</td>\n",
       "    </tr>\n",
       "</table>"
      ],
      "text/plain": [
       "[('South Sudan', 12042910, 4.02, 484125.0, 8.18, 11.47),\n",
       " ('Malawi', 17964697, 3.32, 596428.0, 8.41, 0.0),\n",
       " ('Burundi', 10742276, 3.28, 352347.0, 9.27, 0.0),\n",
       " ('Niger', 18045729, 3.25, 586486.0, 12.42, 0.56),\n",
       " ('Uganda', 37101745, 3.24, 1202097.0, 10.69, 0.74),\n",
       " ('Qatar', 2194817, 3.07, 67381.0, 1.53, 22.39),\n",
       " ('Burkina Faso', 18931686, 3.03, 573630.0, 11.72, 0.0),\n",
       " ('Mali', 16955536, 2.98, 505275.0, 12.89, 2.26),\n",
       " ('Cook Islands', 9838, 2.95, 290.0, 8.03, None),\n",
       " ('Iraq', 37056169, 2.93, 1085746.0, 3.77, 1.62)]"
      ]
     },
     "execution_count": 115,
     "metadata": {},
     "output_type": "execute_result"
    }
   ],
   "source": [
    "%%sql\n",
    "SELECT name, population, population_growth,\n",
    "ROUND(((population_growth/100)*population),0) as people_added, \n",
    "death_rate, migration_rate \n",
    "FROM facts\n",
    "ORDER BY population_growth\n",
    "DESC\n",
    "LIMIT 10;"
   ]
  },
  {
   "cell_type": "code",
   "execution_count": 116,
   "metadata": {},
   "outputs": [
    {
     "name": "stdout",
     "output_type": "stream",
     "text": [
      " * sqlite:///factbook.db\n",
      "Done.\n"
     ]
    },
    {
     "data": {
      "text/html": [
       "<table>\n",
       "    <tr>\n",
       "        <th>name</th>\n",
       "        <th>population</th>\n",
       "        <th>population_growth</th>\n",
       "        <th>people_added</th>\n",
       "        <th>death_rate</th>\n",
       "        <th>migration_rate</th>\n",
       "    </tr>\n",
       "    <tr>\n",
       "        <td>World</td>\n",
       "        <td>7256490011</td>\n",
       "        <td>1.08</td>\n",
       "        <td>78370092.0</td>\n",
       "        <td>7.8</td>\n",
       "        <td>None</td>\n",
       "    </tr>\n",
       "    <tr>\n",
       "        <td>India</td>\n",
       "        <td>1251695584</td>\n",
       "        <td>1.22</td>\n",
       "        <td>15270686.0</td>\n",
       "        <td>7.32</td>\n",
       "        <td>0.04</td>\n",
       "    </tr>\n",
       "    <tr>\n",
       "        <td>China</td>\n",
       "        <td>1367485388</td>\n",
       "        <td>0.45</td>\n",
       "        <td>6153684.0</td>\n",
       "        <td>7.53</td>\n",
       "        <td>0.44</td>\n",
       "    </tr>\n",
       "    <tr>\n",
       "        <td>Nigeria</td>\n",
       "        <td>181562056</td>\n",
       "        <td>2.45</td>\n",
       "        <td>4448270.0</td>\n",
       "        <td>12.9</td>\n",
       "        <td>0.22</td>\n",
       "    </tr>\n",
       "    <tr>\n",
       "        <td>Pakistan</td>\n",
       "        <td>199085847</td>\n",
       "        <td>1.46</td>\n",
       "        <td>2906653.0</td>\n",
       "        <td>6.49</td>\n",
       "        <td>1.54</td>\n",
       "    </tr>\n",
       "    <tr>\n",
       "        <td>Ethiopia</td>\n",
       "        <td>99465819</td>\n",
       "        <td>2.89</td>\n",
       "        <td>2874562.0</td>\n",
       "        <td>8.19</td>\n",
       "        <td>0.22</td>\n",
       "    </tr>\n",
       "    <tr>\n",
       "        <td>Bangladesh</td>\n",
       "        <td>168957745</td>\n",
       "        <td>1.6</td>\n",
       "        <td>2703324.0</td>\n",
       "        <td>5.61</td>\n",
       "        <td>0.46</td>\n",
       "    </tr>\n",
       "    <tr>\n",
       "        <td>United States</td>\n",
       "        <td>321368864</td>\n",
       "        <td>0.78</td>\n",
       "        <td>2506677.0</td>\n",
       "        <td>8.15</td>\n",
       "        <td>3.86</td>\n",
       "    </tr>\n",
       "    <tr>\n",
       "        <td>Indonesia</td>\n",
       "        <td>255993674</td>\n",
       "        <td>0.92</td>\n",
       "        <td>2355142.0</td>\n",
       "        <td>6.37</td>\n",
       "        <td>1.16</td>\n",
       "    </tr>\n",
       "    <tr>\n",
       "        <td>Congo, Democratic Republic of the</td>\n",
       "        <td>79375136</td>\n",
       "        <td>2.45</td>\n",
       "        <td>1944691.0</td>\n",
       "        <td>10.07</td>\n",
       "        <td>0.27</td>\n",
       "    </tr>\n",
       "</table>"
      ],
      "text/plain": [
       "[('World', 7256490011, 1.08, 78370092.0, 7.8, None),\n",
       " ('India', 1251695584, 1.22, 15270686.0, 7.32, 0.04),\n",
       " ('China', 1367485388, 0.45, 6153684.0, 7.53, 0.44),\n",
       " ('Nigeria', 181562056, 2.45, 4448270.0, 12.9, 0.22),\n",
       " ('Pakistan', 199085847, 1.46, 2906653.0, 6.49, 1.54),\n",
       " ('Ethiopia', 99465819, 2.89, 2874562.0, 8.19, 0.22),\n",
       " ('Bangladesh', 168957745, 1.6, 2703324.0, 5.61, 0.46),\n",
       " ('United States', 321368864, 0.78, 2506677.0, 8.15, 3.86),\n",
       " ('Indonesia', 255993674, 0.92, 2355142.0, 6.37, 1.16),\n",
       " ('Congo, Democratic Republic of the', 79375136, 2.45, 1944691.0, 10.07, 0.27)]"
      ]
     },
     "execution_count": 116,
     "metadata": {},
     "output_type": "execute_result"
    }
   ],
   "source": [
    "%%sql\n",
    "SELECT name, population, population_growth, \n",
    "ROUND(((population_growth/100)*population),0) as people_added,\n",
    "death_rate, migration_rate \n",
    "FROM facts\n",
    "ORDER BY people_added\n",
    "DESC\n",
    "LIMIT 10;"
   ]
  },
  {
   "cell_type": "markdown",
   "metadata": {},
   "source": [
    "The world population growth is 1.08%, according to the population growth of the world there will be 78,370,092 more people.  India has the largest calculated value for people added at 15,270,686 with a growth rate of 1.22%.  Although South Sudan has the highest population growth rate, the country does not have a large population therefore the total number of people predicted to contribute to the population is only 484,125."
   ]
  },
  {
   "cell_type": "code",
   "execution_count": 117,
   "metadata": {},
   "outputs": [
    {
     "name": "stdout",
     "output_type": "stream",
     "text": [
      " * sqlite:///factbook.db\n",
      "Done.\n"
     ]
    },
    {
     "data": {
      "text/html": [
       "<table>\n",
       "    <tr>\n",
       "        <th>name</th>\n",
       "        <th>population</th>\n",
       "        <th>population_growth</th>\n",
       "        <th>people_added</th>\n",
       "        <th>death_rate</th>\n",
       "        <th>migration_rate</th>\n",
       "    </tr>\n",
       "    <tr>\n",
       "        <td>Lesotho</td>\n",
       "        <td>1947701</td>\n",
       "        <td>0.32</td>\n",
       "        <td>6233.0</td>\n",
       "        <td>14.89</td>\n",
       "        <td>7.36</td>\n",
       "    </tr>\n",
       "    <tr>\n",
       "        <td>Ukraine</td>\n",
       "        <td>44429471</td>\n",
       "        <td>0.6</td>\n",
       "        <td>266577.0</td>\n",
       "        <td>14.46</td>\n",
       "        <td>2.25</td>\n",
       "    </tr>\n",
       "    <tr>\n",
       "        <td>Bulgaria</td>\n",
       "        <td>7186893</td>\n",
       "        <td>0.58</td>\n",
       "        <td>41684.0</td>\n",
       "        <td>14.44</td>\n",
       "        <td>0.29</td>\n",
       "    </tr>\n",
       "    <tr>\n",
       "        <td>Guinea-Bissau</td>\n",
       "        <td>1726170</td>\n",
       "        <td>1.91</td>\n",
       "        <td>32970.0</td>\n",
       "        <td>14.33</td>\n",
       "        <td>0.0</td>\n",
       "    </tr>\n",
       "    <tr>\n",
       "        <td>Latvia</td>\n",
       "        <td>1986705</td>\n",
       "        <td>1.06</td>\n",
       "        <td>21059.0</td>\n",
       "        <td>14.31</td>\n",
       "        <td>6.26</td>\n",
       "    </tr>\n",
       "    <tr>\n",
       "        <td>Chad</td>\n",
       "        <td>11631456</td>\n",
       "        <td>1.89</td>\n",
       "        <td>219835.0</td>\n",
       "        <td>14.28</td>\n",
       "        <td>3.45</td>\n",
       "    </tr>\n",
       "    <tr>\n",
       "        <td>Lithuania</td>\n",
       "        <td>2884433</td>\n",
       "        <td>1.04</td>\n",
       "        <td>29998.0</td>\n",
       "        <td>14.27</td>\n",
       "        <td>6.27</td>\n",
       "    </tr>\n",
       "    <tr>\n",
       "        <td>Namibia</td>\n",
       "        <td>2212307</td>\n",
       "        <td>0.59</td>\n",
       "        <td>13053.0</td>\n",
       "        <td>13.91</td>\n",
       "        <td>0.0</td>\n",
       "    </tr>\n",
       "    <tr>\n",
       "        <td>Afghanistan</td>\n",
       "        <td>32564342</td>\n",
       "        <td>2.32</td>\n",
       "        <td>755493.0</td>\n",
       "        <td>13.89</td>\n",
       "        <td>1.51</td>\n",
       "    </tr>\n",
       "    <tr>\n",
       "        <td>Central African Republic</td>\n",
       "        <td>5391539</td>\n",
       "        <td>2.13</td>\n",
       "        <td>114840.0</td>\n",
       "        <td>13.8</td>\n",
       "        <td>0.0</td>\n",
       "    </tr>\n",
       "</table>"
      ],
      "text/plain": [
       "[('Lesotho', 1947701, 0.32, 6233.0, 14.89, 7.36),\n",
       " ('Ukraine', 44429471, 0.6, 266577.0, 14.46, 2.25),\n",
       " ('Bulgaria', 7186893, 0.58, 41684.0, 14.44, 0.29),\n",
       " ('Guinea-Bissau', 1726170, 1.91, 32970.0, 14.33, 0.0),\n",
       " ('Latvia', 1986705, 1.06, 21059.0, 14.31, 6.26),\n",
       " ('Chad', 11631456, 1.89, 219835.0, 14.28, 3.45),\n",
       " ('Lithuania', 2884433, 1.04, 29998.0, 14.27, 6.27),\n",
       " ('Namibia', 2212307, 0.59, 13053.0, 13.91, 0.0),\n",
       " ('Afghanistan', 32564342, 2.32, 755493.0, 13.89, 1.51),\n",
       " ('Central African Republic', 5391539, 2.13, 114840.0, 13.8, 0.0)]"
      ]
     },
     "execution_count": 117,
     "metadata": {},
     "output_type": "execute_result"
    }
   ],
   "source": [
    "%%sql\n",
    "SELECT name, population, population_growth, \n",
    "ROUND(((population_growth/100)*population),0) as people_added,\n",
    "death_rate, migration_rate \n",
    "FROM facts\n",
    "ORDER BY death_rate\n",
    "DESC\n",
    "LIMIT 10;"
   ]
  },
  {
   "cell_type": "code",
   "execution_count": 118,
   "metadata": {},
   "outputs": [
    {
     "name": "stdout",
     "output_type": "stream",
     "text": [
      " * sqlite:///factbook.db\n",
      "Done.\n"
     ]
    },
    {
     "data": {
      "text/html": [
       "<table>\n",
       "    <tr>\n",
       "        <th>name</th>\n",
       "        <th>population</th>\n",
       "        <th>population_growth</th>\n",
       "        <th>people_added</th>\n",
       "        <th>death_rate</th>\n",
       "        <th>migration_rate</th>\n",
       "    </tr>\n",
       "    <tr>\n",
       "        <td>Qatar</td>\n",
       "        <td>2194817</td>\n",
       "        <td>3.07</td>\n",
       "        <td>67381.0</td>\n",
       "        <td>1.53</td>\n",
       "        <td>22.39</td>\n",
       "    </tr>\n",
       "    <tr>\n",
       "        <td>American Samoa</td>\n",
       "        <td>54343</td>\n",
       "        <td>0.3</td>\n",
       "        <td>163.0</td>\n",
       "        <td>4.75</td>\n",
       "        <td>21.13</td>\n",
       "    </tr>\n",
       "    <tr>\n",
       "        <td>Micronesia, Federated States of</td>\n",
       "        <td>105216</td>\n",
       "        <td>0.46</td>\n",
       "        <td>484.0</td>\n",
       "        <td>4.23</td>\n",
       "        <td>20.93</td>\n",
       "    </tr>\n",
       "    <tr>\n",
       "        <td>Syria</td>\n",
       "        <td>17064854</td>\n",
       "        <td>0.16</td>\n",
       "        <td>27304.0</td>\n",
       "        <td>4.0</td>\n",
       "        <td>19.79</td>\n",
       "    </tr>\n",
       "    <tr>\n",
       "        <td>Tonga</td>\n",
       "        <td>106501</td>\n",
       "        <td>0.03</td>\n",
       "        <td>32.0</td>\n",
       "        <td>4.85</td>\n",
       "        <td>17.84</td>\n",
       "    </tr>\n",
       "    <tr>\n",
       "        <td>British Virgin Islands</td>\n",
       "        <td>33454</td>\n",
       "        <td>2.32</td>\n",
       "        <td>776.0</td>\n",
       "        <td>4.99</td>\n",
       "        <td>17.28</td>\n",
       "    </tr>\n",
       "    <tr>\n",
       "        <td>Luxembourg</td>\n",
       "        <td>570252</td>\n",
       "        <td>2.13</td>\n",
       "        <td>12146.0</td>\n",
       "        <td>7.24</td>\n",
       "        <td>17.16</td>\n",
       "    </tr>\n",
       "    <tr>\n",
       "        <td>Cayman Islands</td>\n",
       "        <td>56092</td>\n",
       "        <td>2.1</td>\n",
       "        <td>1178.0</td>\n",
       "        <td>5.53</td>\n",
       "        <td>14.4</td>\n",
       "    </tr>\n",
       "    <tr>\n",
       "        <td>Singapore</td>\n",
       "        <td>5674472</td>\n",
       "        <td>1.89</td>\n",
       "        <td>107248.0</td>\n",
       "        <td>3.43</td>\n",
       "        <td>14.05</td>\n",
       "    </tr>\n",
       "    <tr>\n",
       "        <td>Nauru</td>\n",
       "        <td>9540</td>\n",
       "        <td>0.55</td>\n",
       "        <td>52.0</td>\n",
       "        <td>5.87</td>\n",
       "        <td>13.63</td>\n",
       "    </tr>\n",
       "</table>"
      ],
      "text/plain": [
       "[('Qatar', 2194817, 3.07, 67381.0, 1.53, 22.39),\n",
       " ('American Samoa', 54343, 0.3, 163.0, 4.75, 21.13),\n",
       " ('Micronesia, Federated States of', 105216, 0.46, 484.0, 4.23, 20.93),\n",
       " ('Syria', 17064854, 0.16, 27304.0, 4.0, 19.79),\n",
       " ('Tonga', 106501, 0.03, 32.0, 4.85, 17.84),\n",
       " ('British Virgin Islands', 33454, 2.32, 776.0, 4.99, 17.28),\n",
       " ('Luxembourg', 570252, 2.13, 12146.0, 7.24, 17.16),\n",
       " ('Cayman Islands', 56092, 2.1, 1178.0, 5.53, 14.4),\n",
       " ('Singapore', 5674472, 1.89, 107248.0, 3.43, 14.05),\n",
       " ('Nauru', 9540, 0.55, 52.0, 5.87, 13.63)]"
      ]
     },
     "execution_count": 118,
     "metadata": {},
     "output_type": "execute_result"
    }
   ],
   "source": [
    "%%sql\n",
    "SELECT name, population, population_growth, \n",
    "ROUND(((population_growth/100)*population),0) as people_added,\n",
    "death_rate, migration_rate \n",
    "FROM facts\n",
    "ORDER BY migration_rate\n",
    "DESC\n",
    "LIMIT 10;"
   ]
  },
  {
   "cell_type": "markdown",
   "metadata": {},
   "source": [
    "There are seven countries with a death rate over 14% with Lesotho, Ukraine, and Bulgaria as the top three.  The migration rate for Qatar, American Samoa, and Federated States of Micronesia is over 20%.\n",
    "\n",
    "##### Death Rate over Birth Rate"
   ]
  },
  {
   "cell_type": "code",
   "execution_count": 128,
   "metadata": {},
   "outputs": [
    {
     "name": "stdout",
     "output_type": "stream",
     "text": [
      " * sqlite:///factbook.db\n",
      "Done.\n"
     ]
    },
    {
     "data": {
      "text/html": [
       "<table>\n",
       "    <tr>\n",
       "        <th>name</th>\n",
       "        <th>population</th>\n",
       "        <th>population_growth</th>\n",
       "        <th>death_rate</th>\n",
       "        <th>birth_rate</th>\n",
       "        <th>migration_rate</th>\n",
       "    </tr>\n",
       "    <tr>\n",
       "        <td>Ukraine</td>\n",
       "        <td>44429471</td>\n",
       "        <td>0.6</td>\n",
       "        <td>14.46</td>\n",
       "        <td>10.72</td>\n",
       "        <td>2.25</td>\n",
       "    </tr>\n",
       "    <tr>\n",
       "        <td>Bulgaria</td>\n",
       "        <td>7186893</td>\n",
       "        <td>0.58</td>\n",
       "        <td>14.44</td>\n",
       "        <td>8.92</td>\n",
       "        <td>0.29</td>\n",
       "    </tr>\n",
       "    <tr>\n",
       "        <td>Latvia</td>\n",
       "        <td>1986705</td>\n",
       "        <td>1.06</td>\n",
       "        <td>14.31</td>\n",
       "        <td>10.0</td>\n",
       "        <td>6.26</td>\n",
       "    </tr>\n",
       "    <tr>\n",
       "        <td>Lithuania</td>\n",
       "        <td>2884433</td>\n",
       "        <td>1.04</td>\n",
       "        <td>14.27</td>\n",
       "        <td>10.1</td>\n",
       "        <td>6.27</td>\n",
       "    </tr>\n",
       "    <tr>\n",
       "        <td>Russia</td>\n",
       "        <td>142423773</td>\n",
       "        <td>0.04</td>\n",
       "        <td>13.69</td>\n",
       "        <td>11.6</td>\n",
       "        <td>1.69</td>\n",
       "    </tr>\n",
       "    <tr>\n",
       "        <td>Serbia</td>\n",
       "        <td>7176794</td>\n",
       "        <td>0.46</td>\n",
       "        <td>13.66</td>\n",
       "        <td>9.08</td>\n",
       "        <td>0.0</td>\n",
       "    </tr>\n",
       "    <tr>\n",
       "        <td>Belarus</td>\n",
       "        <td>9589689</td>\n",
       "        <td>0.2</td>\n",
       "        <td>13.36</td>\n",
       "        <td>10.7</td>\n",
       "        <td>0.7</td>\n",
       "    </tr>\n",
       "    <tr>\n",
       "        <td>Hungary</td>\n",
       "        <td>9897541</td>\n",
       "        <td>0.22</td>\n",
       "        <td>12.73</td>\n",
       "        <td>9.16</td>\n",
       "        <td>1.33</td>\n",
       "    </tr>\n",
       "    <tr>\n",
       "        <td>Moldova</td>\n",
       "        <td>3546847</td>\n",
       "        <td>1.03</td>\n",
       "        <td>12.59</td>\n",
       "        <td>12.0</td>\n",
       "        <td>9.67</td>\n",
       "    </tr>\n",
       "    <tr>\n",
       "        <td>Estonia</td>\n",
       "        <td>1265420</td>\n",
       "        <td>0.55</td>\n",
       "        <td>12.4</td>\n",
       "        <td>10.51</td>\n",
       "        <td>3.6</td>\n",
       "    </tr>\n",
       "</table>"
      ],
      "text/plain": [
       "[('Ukraine', 44429471, 0.6, 14.46, 10.72, 2.25),\n",
       " ('Bulgaria', 7186893, 0.58, 14.44, 8.92, 0.29),\n",
       " ('Latvia', 1986705, 1.06, 14.31, 10.0, 6.26),\n",
       " ('Lithuania', 2884433, 1.04, 14.27, 10.1, 6.27),\n",
       " ('Russia', 142423773, 0.04, 13.69, 11.6, 1.69),\n",
       " ('Serbia', 7176794, 0.46, 13.66, 9.08, 0.0),\n",
       " ('Belarus', 9589689, 0.2, 13.36, 10.7, 0.7),\n",
       " ('Hungary', 9897541, 0.22, 12.73, 9.16, 1.33),\n",
       " ('Moldova', 3546847, 1.03, 12.59, 12.0, 9.67),\n",
       " ('Estonia', 1265420, 0.55, 12.4, 10.51, 3.6)]"
      ]
     },
     "execution_count": 128,
     "metadata": {},
     "output_type": "execute_result"
    }
   ],
   "source": [
    "%%sql\n",
    "SELECT name, population, population_growth, \n",
    "death_rate, birth_rate, migration_rate \n",
    "FROM facts\n",
    "WHERE death_rate > birth_rate\n",
    "ORDER BY death_rate\n",
    "DESC\n",
    "LIMIT 10\n",
    ";"
   ]
  },
  {
   "cell_type": "code",
   "execution_count": 130,
   "metadata": {},
   "outputs": [
    {
     "name": "stdout",
     "output_type": "stream",
     "text": [
      " * sqlite:///factbook.db\n",
      "Done.\n"
     ]
    },
    {
     "data": {
      "text/html": [
       "<table>\n",
       "    <tr>\n",
       "        <th>higher_death_rate</th>\n",
       "    </tr>\n",
       "    <tr>\n",
       "        <td>24</td>\n",
       "    </tr>\n",
       "</table>"
      ],
      "text/plain": [
       "[(24,)]"
      ]
     },
     "execution_count": 130,
     "metadata": {},
     "output_type": "execute_result"
    }
   ],
   "source": [
    "%%sql\n",
    "SELECT COUNT(name) as higher_death_rate\n",
    "FROM facts\n",
    "WHERE death_rate>birth_rate\n",
    ";"
   ]
  },
  {
   "cell_type": "markdown",
   "metadata": {},
   "source": [
    "There are 24 countries with a higher death rate than birth rate.  "
   ]
  }
 ],
 "metadata": {
  "kernelspec": {
   "display_name": "Python 3",
   "language": "python",
   "name": "python3"
  },
  "language_info": {
   "codemirror_mode": {
    "name": "ipython",
    "version": 3
   },
   "file_extension": ".py",
   "mimetype": "text/x-python",
   "name": "python",
   "nbconvert_exporter": "python",
   "pygments_lexer": "ipython3",
   "version": "3.7.4"
  }
 },
 "nbformat": 4,
 "nbformat_minor": 2
}
